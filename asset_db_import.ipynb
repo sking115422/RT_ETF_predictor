{
 "cells": [
  {
   "cell_type": "code",
   "execution_count": null,
   "metadata": {},
   "outputs": [],
   "source": [
    "import private_info.db_info as dbi\n",
    "import mysql.connector\n",
    "import pymysql\n",
    "import sqlalchemy\n",
    "import os\n",
    "import pandas as pd"
   ]
  },
  {
   "cell_type": "code",
   "execution_count": null,
   "metadata": {},
   "outputs": [],
   "source": [
    "# def connect_to_db ():\n",
    "#     db = mysql.connector.connect(\n",
    "#         host = dbi.hostname,  \n",
    "#         user = dbi.username,    \n",
    "#         password = dbi.password,\n",
    "#         database = dbi.database,\n",
    "#         auth_plugin='mysql_native_password'\n",
    "#     )\n",
    "\n",
    "#     print ()\n",
    "#     print (db)\n",
    "\n",
    "#     mycursor = db.cursor()\n",
    "    \n",
    "#     return db, mycursor"
   ]
  },
  {
   "cell_type": "code",
   "execution_count": null,
   "metadata": {},
   "outputs": [],
   "source": [
    "# db_con, cur = connect_to_db ()"
   ]
  },
  {
   "cell_type": "code",
   "execution_count": 15,
   "metadata": {},
   "outputs": [],
   "source": [
    "engine = sqlalchemy.create_engine(f'mysql+pymysql://{dbi.username}:{dbi.password}@{dbi.hostname}:{dbi.port}/{dbi.database}')"
   ]
  },
  {
   "cell_type": "code",
   "execution_count": 23,
   "metadata": {},
   "outputs": [],
   "source": [
    "db_sqla_conn = engine.connect()"
   ]
  },
  {
   "cell_type": "code",
   "execution_count": 17,
   "metadata": {},
   "outputs": [
    {
     "name": "stdout",
     "output_type": "stream",
     "text": [
      "<sqlalchemy.engine.base.Connection object at 0x7f825f5b99d0>\n"
     ]
    }
   ],
   "source": [
    "print (db_sqla_conn)"
   ]
  },
  {
   "cell_type": "code",
   "execution_count": 18,
   "metadata": {},
   "outputs": [],
   "source": [
    "files_list = []\n",
    "\n",
    "for root, dir, files in os.walk('data'):\n",
    "    for name in files:\n",
    "        files_list.append(os.path.join(root,name))"
   ]
  },
  {
   "cell_type": "code",
   "execution_count": 19,
   "metadata": {},
   "outputs": [
    {
     "name": "stdout",
     "output_type": "stream",
     "text": [
      "['data/asset/SPY.csv', 'data/gen/fvx.csv', 'data/gen/fed_funds.csv', 'data/gen/tnx.csv', 'data/gen/vix.csv']\n"
     ]
    }
   ],
   "source": [
    "print (files_list)"
   ]
  },
  {
   "cell_type": "code",
   "execution_count": 28,
   "metadata": {},
   "outputs": [
    {
     "name": "stdout",
     "output_type": "stream",
     "text": [
      "spy\n",
      "fvx\n",
      "fed_funds\n",
      "tnx\n",
      "vix\n"
     ]
    }
   ],
   "source": [
    "for path in files_list:\n",
    "    \n",
    "    df = pd.read_csv (path)\n",
    "    path_parts = path.split('/')\n",
    "    t_name = path_parts[2][:-4].lower()\n",
    "    \n",
    "    print (t_name)\n",
    "    \n",
    "    # cmd = f\"CREATE TABLE IF NOT EXISTS {t_name} (product_name text, price number)\"\n",
    "    \n",
    "    # cur.execute(cmd)\n",
    "    # db_con.commit()\n",
    "    \n",
    "    df.to_sql(t_name, engine, if_exists='fail')\n",
    "    \n",
    "    result = engine.execute(f\"ALTER TABLE {t_name} DROP COLUMN `Unnamed: 0`;\")\n",
    "    print (result)\n",
    "    "
   ]
  }
 ],
 "metadata": {
  "interpreter": {
   "hash": "52c035fb8b67b052dd6e2906c4f9d9863b12f63c5bf3c5ef824bd27b191b7f1a"
  },
  "kernelspec": {
   "display_name": "Python 3.9.5 64-bit ('venv': venv)",
   "language": "python",
   "name": "python3"
  },
  "language_info": {
   "codemirror_mode": {
    "name": "ipython",
    "version": 3
   },
   "file_extension": ".py",
   "mimetype": "text/x-python",
   "name": "python",
   "nbconvert_exporter": "python",
   "pygments_lexer": "ipython3",
   "version": "3.9.5"
  },
  "orig_nbformat": 4
 },
 "nbformat": 4,
 "nbformat_minor": 2
}
