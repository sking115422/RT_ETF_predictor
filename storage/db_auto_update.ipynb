{
 "cells": [
  {
   "cell_type": "code",
   "execution_count": 82,
   "metadata": {},
   "outputs": [],
   "source": [
    "import private_info.db_info as dbi\n",
    "import mysql.connector\n",
    "import pandas_datareader as web\n",
    "import pandas as pd \n",
    "from sklearn.preprocessing import MinMaxScaler\n",
    "import requests as req\n",
    "import datetime as dt\n",
    "import pytz \n",
    "import csv"
   ]
  },
  {
   "cell_type": "code",
   "execution_count": 83,
   "metadata": {},
   "outputs": [],
   "source": [
    "class FedFundsError(Exception):\n",
    "    \"\"\"Raised when there is an issue with the fed funds db table auto update\"\"\"\n",
    "    pass"
   ]
  },
  {
   "cell_type": "code",
   "execution_count": 84,
   "metadata": {},
   "outputs": [],
   "source": [
    "# CONNECTING TO DB"
   ]
  },
  {
   "cell_type": "code",
   "execution_count": 85,
   "metadata": {},
   "outputs": [],
   "source": [
    "def connect_to_db ():\n",
    "    db = mysql.connector.connect(\n",
    "        host = dbi.hostname,  \n",
    "        user = dbi.username,    \n",
    "        password = dbi.password,\n",
    "        database = dbi.database,\n",
    "        auth_plugin='mysql_native_password'\n",
    "    )\n",
    "\n",
    "    print ()\n",
    "    print (db)\n",
    "\n",
    "    mycursor = db.cursor()\n",
    "    \n",
    "    return db, mycursor"
   ]
  },
  {
   "cell_type": "code",
   "execution_count": 86,
   "metadata": {},
   "outputs": [
    {
     "name": "stdout",
     "output_type": "stream",
     "text": [
      "\n",
      "<mysql.connector.connection_cext.CMySQLConnection object at 0x7f1b92771df0>\n"
     ]
    }
   ],
   "source": [
    "db_con, cur = connect_to_db ()"
   ]
  },
  {
   "cell_type": "code",
   "execution_count": 87,
   "metadata": {},
   "outputs": [],
   "source": [
    "# GETTING CURRENT DATE"
   ]
  },
  {
   "cell_type": "code",
   "execution_count": 88,
   "metadata": {},
   "outputs": [
    {
     "name": "stdout",
     "output_type": "stream",
     "text": [
      "2021-12-28\n"
     ]
    }
   ],
   "source": [
    "est = pytz.timezone('US/Eastern')\n",
    "now = dt.datetime.now(tz=est)\n",
    "\n",
    "time_parts = str(now).split(\" \")\n",
    "current_date = time_parts[0]\n",
    "print(current_date)"
   ]
  },
  {
   "cell_type": "code",
   "execution_count": 89,
   "metadata": {},
   "outputs": [],
   "source": [
    "start_date = current_date\n",
    "end_date = current_date"
   ]
  },
  {
   "cell_type": "code",
   "execution_count": 90,
   "metadata": {},
   "outputs": [],
   "source": [
    "# GETTING ALL DB TABLE EXCEPT FED FUNDS IN LIST"
   ]
  },
  {
   "cell_type": "code",
   "execution_count": 91,
   "metadata": {},
   "outputs": [],
   "source": [
    "cur.execute('USE etf_pred;')\n",
    "cur.execute('SHOW tables;')\n",
    "res = cur.fetchall()"
   ]
  },
  {
   "cell_type": "code",
   "execution_count": 92,
   "metadata": {},
   "outputs": [],
   "source": [
    "name_list = []\n",
    "for each in res:\n",
    "    if each[0] != 'fed_funds':\n",
    "         name_list.append(each[0])"
   ]
  },
  {
   "cell_type": "code",
   "execution_count": 93,
   "metadata": {},
   "outputs": [],
   "source": [
    "for i in range (0, len(name_list)):\n",
    "    if name_list[i] == 'fvx':\n",
    "        name_list[i] = '^fvx'\n",
    "    if name_list[i] == 'tnx':\n",
    "        name_list[i] = '^tnx'\n",
    "    if name_list[i] == 'vix':\n",
    "        name_list[i] = '^vix'"
   ]
  },
  {
   "cell_type": "code",
   "execution_count": 94,
   "metadata": {},
   "outputs": [
    {
     "name": "stdout",
     "output_type": "stream",
     "text": [
      "['^fvx', 'iwm', 'qqq', 'spy', '^tnx', '^vix']\n"
     ]
    }
   ],
   "source": [
    "print(name_list)"
   ]
  },
  {
   "cell_type": "code",
   "execution_count": 95,
   "metadata": {},
   "outputs": [],
   "source": [
    "# GETTING TODAYS INFORMATION FOR EACH TABLE"
   ]
  },
  {
   "cell_type": "code",
   "execution_count": 96,
   "metadata": {},
   "outputs": [],
   "source": [
    "asset_df_list = []\n",
    "\n",
    "for each in name_list:\n",
    "    \n",
    "    asset_df_list.append( web.DataReader(each, data_source='yahoo', start = start_date, end = end_date) )"
   ]
  },
  {
   "cell_type": "code",
   "execution_count": 97,
   "metadata": {},
   "outputs": [],
   "source": [
    "for i in range (0, len(name_list)):\n",
    "    if name_list[i] == '^fvx':\n",
    "        name_list[i] = 'fvx'\n",
    "    if name_list[i] == '^tnx':\n",
    "        name_list[i] = 'tnx'\n",
    "    if name_list[i] == '^vix':\n",
    "        name_list[i] = 'vix'"
   ]
  },
  {
   "cell_type": "code",
   "execution_count": 98,
   "metadata": {},
   "outputs": [
    {
     "name": "stdout",
     "output_type": "stream",
     "text": [
      "['fvx', 'iwm', 'qqq', 'spy', 'tnx', 'vix']\n"
     ]
    }
   ],
   "source": [
    "print(name_list)"
   ]
  },
  {
   "cell_type": "code",
   "execution_count": 99,
   "metadata": {},
   "outputs": [],
   "source": [
    "# ADDING THIS NEW INFROMATION AS A NEW ROW IN EACH TABLE"
   ]
  },
  {
   "cell_type": "code",
   "execution_count": 100,
   "metadata": {},
   "outputs": [],
   "source": [
    "inc = 0\n",
    "for each in asset_df_list:\n",
    "    each['Date'] = each.index\n",
    "    each.reset_index(drop=True, inplace=True)\n",
    "    each = each[['Date', 'High', 'Low', 'Open', 'Close', 'Volume', 'Adj Close']]\n",
    "    if each.shape[0] > 1:\n",
    "        each.drop(each.tail(1).index,inplace=True)\n",
    "        \n",
    "    date_dt = each.iloc[0]['Date']\n",
    "    \n",
    "    cur.execute(f\"SELECT Date FROM {name_list[inc]} ORDER BY Date DESC LIMIT 1;\")\n",
    "    prev_date = cur.fetchall()[0][0]\n",
    "    prev_date_dt = dt.datetime.strptime(prev_date, '%Y-%m-%d')\n",
    "    \n",
    "    \n",
    "    if date_dt > prev_date_dt:\n",
    "    \n",
    "        date = str(date_dt)[0:10]\n",
    "        print(date)\n",
    "        high = each.iloc[0]['High']\n",
    "        low = each.iloc[0]['Low']\n",
    "        open = each.iloc[0]['Open']\n",
    "        close = each.iloc[0]['Close']\n",
    "        volume = each.iloc[0]['Volume']\n",
    "        adj_close = each.iloc[0]['Adj Close']\n",
    "        \n",
    "        cmd1 = f\"INSERT INTO {name_list[inc]} (`Date`, `High`, `Low`, `Open`, `Close`, `Volume`, `Adj Close`) \"\n",
    "        cmd2 = f\"VALUES ('{date}', {high}, {low}, {open}, {close}, {volume}, {adj_close})\"\n",
    "        cmd = cmd1 + cmd2\n",
    "        \n",
    "        print (cmd)\n",
    "        \n",
    "        cur.execute(cmd)\n",
    "        db_con.commit()\n",
    "    \n",
    "    inc = inc + 1"
   ]
  },
  {
   "cell_type": "code",
   "execution_count": 101,
   "metadata": {},
   "outputs": [],
   "source": [
    "fed_fund_url = f\"https://markets.newyorkfed.org/read?productCode=50&eventCodes=500&limit=5&startPosition=0&sort=postDt:-1&format=csv\""
   ]
  },
  {
   "cell_type": "code",
   "execution_count": 102,
   "metadata": {},
   "outputs": [
    {
     "data": {
      "text/html": [
       "<div>\n",
       "<style scoped>\n",
       "    .dataframe tbody tr th:only-of-type {\n",
       "        vertical-align: middle;\n",
       "    }\n",
       "\n",
       "    .dataframe tbody tr th {\n",
       "        vertical-align: top;\n",
       "    }\n",
       "\n",
       "    .dataframe thead th {\n",
       "        text-align: right;\n",
       "    }\n",
       "</style>\n",
       "<table border=\"1\" class=\"dataframe\">\n",
       "  <thead>\n",
       "    <tr style=\"text-align: right;\">\n",
       "      <th></th>\n",
       "      <th>Date</th>\n",
       "      <th>DFF</th>\n",
       "    </tr>\n",
       "  </thead>\n",
       "  <tbody>\n",
       "    <tr>\n",
       "      <th>0</th>\n",
       "      <td>12/27/2021</td>\n",
       "      <td>0.08</td>\n",
       "    </tr>\n",
       "    <tr>\n",
       "      <th>1</th>\n",
       "      <td>12/24/2021</td>\n",
       "      <td>0.08</td>\n",
       "    </tr>\n",
       "    <tr>\n",
       "      <th>2</th>\n",
       "      <td>12/23/2021</td>\n",
       "      <td>0.08</td>\n",
       "    </tr>\n",
       "    <tr>\n",
       "      <th>3</th>\n",
       "      <td>12/22/2021</td>\n",
       "      <td>0.08</td>\n",
       "    </tr>\n",
       "    <tr>\n",
       "      <th>4</th>\n",
       "      <td>12/21/2021</td>\n",
       "      <td>0.08</td>\n",
       "    </tr>\n",
       "  </tbody>\n",
       "</table>\n",
       "</div>"
      ],
      "text/plain": [
       "         Date   DFF\n",
       "0  12/27/2021  0.08\n",
       "1  12/24/2021  0.08\n",
       "2  12/23/2021  0.08\n",
       "3  12/22/2021  0.08\n",
       "4  12/21/2021  0.08"
      ]
     },
     "execution_count": 102,
     "metadata": {},
     "output_type": "execute_result"
    }
   ],
   "source": [
    "fed_funds_data = req.get(fed_fund_url)\n",
    "decoded_content = fed_funds_data.content.decode('utf-8')\n",
    "\n",
    "cr = csv.reader(decoded_content.splitlines(), delimiter=',')\n",
    "\n",
    "ff_df = pd.DataFrame(cr)\n",
    "\n",
    "ff_df.drop(ff_df.columns[1], axis=1, inplace=True)\n",
    "ff_df.drop(ff_df.columns[2:18], axis=1, inplace=True)\n",
    "ff_df.drop(index=ff_df.index[0], axis=0, inplace=True)\n",
    "ff_df.reset_index(drop=True, inplace=True)\n",
    "ff_df.rename(columns={0: 'Date', 2: 'DFF'}, inplace=True)\n",
    "\n",
    "ff_df.head()"
   ]
  },
  {
   "cell_type": "code",
   "execution_count": 103,
   "metadata": {},
   "outputs": [],
   "source": [
    "ff_new_date = ff_df['Date'].iloc[0]\n",
    "ff_new_date = dt.datetime.strptime(ff_new_date, '%m/%d/%Y')\n",
    "ff_new_date = dt.datetime.strftime(ff_new_date, '%Y-%m-%d')"
   ]
  },
  {
   "cell_type": "code",
   "execution_count": 104,
   "metadata": {},
   "outputs": [
    {
     "name": "stdout",
     "output_type": "stream",
     "text": [
      "2021-12-27\n"
     ]
    }
   ],
   "source": [
    "print (ff_new_date)"
   ]
  },
  {
   "cell_type": "code",
   "execution_count": 105,
   "metadata": {},
   "outputs": [],
   "source": [
    "ff_new_val = ff_df['DFF'].loc[0]"
   ]
  },
  {
   "cell_type": "code",
   "execution_count": 106,
   "metadata": {},
   "outputs": [],
   "source": [
    "cur.execute(f\"SELECT * FROM fed_funds ORDER BY Date DESC LIMIT 2;\")\n",
    "ff_db_list = cur.fetchall()"
   ]
  },
  {
   "cell_type": "code",
   "execution_count": 107,
   "metadata": {},
   "outputs": [],
   "source": [
    "cur.execute(f\"SELECT * FROM tnx ORDER BY Date DESC LIMIT 1;\")\n",
    "tnx_db_list = cur.fetchall()"
   ]
  },
  {
   "cell_type": "code",
   "execution_count": 108,
   "metadata": {},
   "outputs": [],
   "source": [
    "tnx_date = tnx_db_list[0][1]"
   ]
  },
  {
   "cell_type": "code",
   "execution_count": 109,
   "metadata": {},
   "outputs": [
    {
     "name": "stdout",
     "output_type": "stream",
     "text": [
      "2021-12-28\n"
     ]
    }
   ],
   "source": [
    "print(tnx_date)"
   ]
  },
  {
   "cell_type": "code",
   "execution_count": 110,
   "metadata": {},
   "outputs": [],
   "source": [
    "ff_db_lr_index = ff_db_list[0][0]\n",
    "ff_db_lr_date = ff_db_list[0][1]\n",
    "ff_db_lr_val = ff_db_list[0][2]"
   ]
  },
  {
   "cell_type": "code",
   "execution_count": 111,
   "metadata": {},
   "outputs": [],
   "source": [
    "if ff_db_lr_date == tnx_date and ff_db_lr_val == None:\n",
    "    pass\n",
    "else:\n",
    "    if tnx_date == ff_new_date:\n",
    "        cur.execute(f\"UPDATE fed_funds SET Date = \\'{ff_new_date}\\' WHERE `index` = {ff_db_lr_index}\")\n",
    "        cur.execute(f\"UPDATE fed_funds SET DFF = \\'{ff_new_val}\\' WHERE `index` = {ff_db_lr_index}\")\n",
    "        cur.execute(f\"INSERT INTO fed_funds (`Date`, `DFF`) VALUES (\\'{current_date}\\', NULL);\")\n",
    "        db_con.commit()\n",
    "    else:\n",
    "        raise FedFundsError"
   ]
  }
 ],
 "metadata": {
  "interpreter": {
   "hash": "52c035fb8b67b052dd6e2906c4f9d9863b12f63c5bf3c5ef824bd27b191b7f1a"
  },
  "kernelspec": {
   "display_name": "Python 3.9.5 64-bit ('venv': venv)",
   "language": "python",
   "name": "python3"
  },
  "language_info": {
   "codemirror_mode": {
    "name": "ipython",
    "version": 3
   },
   "file_extension": ".py",
   "mimetype": "text/x-python",
   "name": "python",
   "nbconvert_exporter": "python",
   "pygments_lexer": "ipython3",
   "version": "3.9.5"
  },
  "orig_nbformat": 4
 },
 "nbformat": 4,
 "nbformat_minor": 2
}
