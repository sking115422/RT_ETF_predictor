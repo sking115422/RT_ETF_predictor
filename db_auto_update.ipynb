{
 "cells": [
  {
   "cell_type": "code",
   "execution_count": 2,
   "metadata": {},
   "outputs": [],
   "source": [
    "import private_info.db_info as dbi\n",
    "import mysql.connector\n",
    "import pandas_datareader as web\n",
    "import math\n",
    "import numpy as np\n",
    "import pandas as pd \n",
    "from sklearn.preprocessing import MinMaxScaler\n",
    "import requests as req\n",
    "import datetime as dt\n",
    "import pytz \n",
    "import csv\n",
    "import os"
   ]
  },
  {
   "cell_type": "code",
   "execution_count": 3,
   "metadata": {},
   "outputs": [],
   "source": [
    "def connect_to_db ():\n",
    "    db = mysql.connector.connect(\n",
    "        host = dbi.hostname,  \n",
    "        user = dbi.username,    \n",
    "        password = dbi.password,\n",
    "        database = dbi.database,\n",
    "        auth_plugin='mysql_native_password'\n",
    "    )\n",
    "\n",
    "    print ()\n",
    "    print (db)\n",
    "\n",
    "    mycursor = db.cursor()\n",
    "    \n",
    "    return db, mycursor"
   ]
  },
  {
   "cell_type": "code",
   "execution_count": 4,
   "metadata": {},
   "outputs": [
    {
     "name": "stdout",
     "output_type": "stream",
     "text": [
      "\n",
      "<mysql.connector.connection_cext.CMySQLConnection object at 0x7f0874757be0>\n"
     ]
    }
   ],
   "source": [
    "db_con, cur = connect_to_db ()"
   ]
  },
  {
   "cell_type": "code",
   "execution_count": 9,
   "metadata": {},
   "outputs": [
    {
     "name": "stdout",
     "output_type": "stream",
     "text": [
      "2021-12-27\n"
     ]
    }
   ],
   "source": [
    "est = pytz.timezone('US/Eastern')\n",
    "now = dt.datetime.now(tz=est)\n",
    "\n",
    "time_parts = str(now).split(\" \")\n",
    "current_date = time_parts[0]\n",
    "print(current_date)"
   ]
  },
  {
   "cell_type": "code",
   "execution_count": 10,
   "metadata": {},
   "outputs": [],
   "source": [
    "start_date = current_date\n",
    "end_date = current_date"
   ]
  },
  {
   "cell_type": "code",
   "execution_count": 11,
   "metadata": {},
   "outputs": [],
   "source": [
    "cur.execute('USE etf_pred;')\n",
    "cur.execute('SHOW tables;')\n",
    "res = cur.fetchall()"
   ]
  },
  {
   "cell_type": "code",
   "execution_count": 90,
   "metadata": {},
   "outputs": [],
   "source": [
    "name_list = []\n",
    "for each in res:\n",
    "    if each[0] != 'fed_funds' and each[0] != 'fvx' and each[0] != 'tnx' and each[0] != 'vix':\n",
    "         name_list.append(each[0])"
   ]
  },
  {
   "cell_type": "code",
   "execution_count": 95,
   "metadata": {},
   "outputs": [],
   "source": [
    "asset_df_list = []\n",
    "\n",
    "for each in name_list:\n",
    "    \n",
    "    asset_df_list.append( web.DataReader(each, data_source='yahoo', start = start_date, end = end_date) )"
   ]
  },
  {
   "cell_type": "code",
   "execution_count": 96,
   "metadata": {},
   "outputs": [],
   "source": [
    "inc = 0\n",
    "for each in asset_df_list:\n",
    "    each['Date'] = each.index\n",
    "    each.reset_index(drop=True, inplace=True)\n",
    "    each = each[['Date', 'High', 'Low', 'Open', 'Close', 'Volume', 'Adj Close']]\n",
    "    if each.shape[0] > 1:\n",
    "        each.drop(each.tail(1).index,inplace=True)\n",
    "        \n",
    "    date_dt = each.iloc[0]['Date']\n",
    "    \n",
    "    cur.execute(f\"SELECT Date FROM {name_list[inc]} ORDER BY Date DESC LIMIT 1;\")\n",
    "    prev_date = cur.fetchall()[0][0]\n",
    "    prev_date_dt = dt.datetime.strptime(prev_date, '%Y-%m-%d')\n",
    "    \n",
    "    \n",
    "    if date_dt > prev_date_dt:\n",
    "    \n",
    "        date = str(date_dt)[0:10]\n",
    "        print(date)\n",
    "        high = each.iloc[0]['High']\n",
    "        low = each.iloc[0]['Low']\n",
    "        open = each.iloc[0]['Open']\n",
    "        close = each.iloc[0]['Close']\n",
    "        volume = each.iloc[0]['Volume']\n",
    "        adj_close = each.iloc[0]['Adj Close']\n",
    "        \n",
    "        cmd1 = f\"INSERT INTO {name_list[inc]} (`Date`, `High`, `Low`, `Open`, `Close`, `Volume`, `Adj Close`) \"\n",
    "        cmd2 = f\"VALUES ('{date}', {high}, {low}, {open}, {close}, {volume}, {adj_close})\"\n",
    "        cmd = cmd1 + cmd2\n",
    "        \n",
    "        print (cmd)\n",
    "        \n",
    "        cur.execute(cmd)\n",
    "        db_con.commit()\n",
    "    \n",
    "    inc = inc + 1"
   ]
  },
  {
   "cell_type": "code",
   "execution_count": 7,
   "metadata": {},
   "outputs": [],
   "source": [
    "delta = dt.timedelta(1)\n",
    "temp_date = now - delta\n",
    "temp_date = str(temp_date)[0:10]\n",
    "\n",
    "\n",
    "fed_fund_url = f\"https://markets.newyorkfed.org/read?productCode=50&eventCodes=500&limit=5&startPosition=0&sort=postDt:-1&format=csv\""
   ]
  },
  {
   "cell_type": "code",
   "execution_count": 8,
   "metadata": {},
   "outputs": [
    {
     "name": "stdout",
     "output_type": "stream",
     "text": [
      "Effective Date,Rate Type,Rate (%),1st Percentile (%),25th Percentile (%),75th Percentile (%),99th Percentile (%),Volume ($Billions),Target Rate From (%),Target Rate To (%),Intra Day - Low (%),Intra Day - High (%),Standard Deviation (%),30-Day Average SOFR,90-Day Average SOFR,180-Day Average SOFR,SOFR Index,Revision Indicator (Y/N),Footnote ID\n",
      "12/24/2021,EFFR,0.08,0.06,0.07,0.08,0.20,69,0.00,0.25,,,,,,,,,\n",
      "12/23/2021,EFFR,0.08,0.06,0.07,0.09,0.20,71,0.00,0.25,,,,,,,,,\n",
      "12/22/2021,EFFR,0.08,0.06,0.07,0.08,0.20,69,0.00,0.25,,,,,,,,,\n",
      "12/21/2021,EFFR,0.08,0.06,0.07,0.08,0.20,69,0.00,0.25,,,,,,,,,\n",
      "12/20/2021,EFFR,0.08,0.06,0.07,0.08,0.20,72,0.00,0.25,,,,,,,,,\n",
      "\n",
      "\n"
     ]
    }
   ],
   "source": [
    "fed_funds_data = req.get(fed_fund_url)\n",
    "decoded_content = fed_funds_data.content.decode('utf-8')\n",
    "\n",
    "print (decoded_content)\n",
    "\n",
    "# cr = csv.reader(decoded_content.splitlines(), delimiter=',')\n",
    "# fed_funds_list = list(cr)\n",
    "# fed_funds_list.append([temp_date, None])"
   ]
  },
  {
   "cell_type": "code",
   "execution_count": 45,
   "metadata": {},
   "outputs": [
    {
     "data": {
      "text/html": [
       "<div>\n",
       "<style scoped>\n",
       "    .dataframe tbody tr th:only-of-type {\n",
       "        vertical-align: middle;\n",
       "    }\n",
       "\n",
       "    .dataframe tbody tr th {\n",
       "        vertical-align: top;\n",
       "    }\n",
       "\n",
       "    .dataframe thead th {\n",
       "        text-align: right;\n",
       "    }\n",
       "</style>\n",
       "<table border=\"1\" class=\"dataframe\">\n",
       "  <thead>\n",
       "    <tr style=\"text-align: right;\">\n",
       "      <th></th>\n",
       "      <th>Date</th>\n",
       "      <th>DFF</th>\n",
       "    </tr>\n",
       "  </thead>\n",
       "  <tbody>\n",
       "    <tr>\n",
       "      <th>1</th>\n",
       "      <td>1954-07-01</td>\n",
       "      <td>1.13</td>\n",
       "    </tr>\n",
       "    <tr>\n",
       "      <th>2</th>\n",
       "      <td>1954-07-02</td>\n",
       "      <td>1.250</td>\n",
       "    </tr>\n",
       "    <tr>\n",
       "      <th>3</th>\n",
       "      <td>1954-07-03</td>\n",
       "      <td>1.250</td>\n",
       "    </tr>\n",
       "    <tr>\n",
       "      <th>4</th>\n",
       "      <td>1954-07-04</td>\n",
       "      <td>1.250</td>\n",
       "    </tr>\n",
       "    <tr>\n",
       "      <th>5</th>\n",
       "      <td>1954-07-05</td>\n",
       "      <td>0.88</td>\n",
       "    </tr>\n",
       "    <tr>\n",
       "      <th>...</th>\n",
       "      <td>...</td>\n",
       "      <td>...</td>\n",
       "    </tr>\n",
       "    <tr>\n",
       "      <th>24646</th>\n",
       "      <td>2021-12-21</td>\n",
       "      <td>0.08</td>\n",
       "    </tr>\n",
       "    <tr>\n",
       "      <th>24647</th>\n",
       "      <td>2021-12-22</td>\n",
       "      <td>0.08</td>\n",
       "    </tr>\n",
       "    <tr>\n",
       "      <th>24648</th>\n",
       "      <td>2021-12-23</td>\n",
       "      <td>0.08</td>\n",
       "    </tr>\n",
       "    <tr>\n",
       "      <th>24649</th>\n",
       "      <td>2021-12-24</td>\n",
       "      <td>0.08</td>\n",
       "    </tr>\n",
       "    <tr>\n",
       "      <th>24650</th>\n",
       "      <td>2021-12-26</td>\n",
       "      <td>None</td>\n",
       "    </tr>\n",
       "  </tbody>\n",
       "</table>\n",
       "<p>24650 rows × 2 columns</p>\n",
       "</div>"
      ],
      "text/plain": [
       "             Date    DFF\n",
       "1      1954-07-01   1.13\n",
       "2      1954-07-02  1.250\n",
       "3      1954-07-03  1.250\n",
       "4      1954-07-04  1.250\n",
       "5      1954-07-05   0.88\n",
       "...           ...    ...\n",
       "24646  2021-12-21   0.08\n",
       "24647  2021-12-22   0.08\n",
       "24648  2021-12-23   0.08\n",
       "24649  2021-12-24   0.08\n",
       "24650  2021-12-26   None\n",
       "\n",
       "[24650 rows x 2 columns]"
      ]
     },
     "execution_count": 45,
     "metadata": {},
     "output_type": "execute_result"
    }
   ],
   "source": [
    "fed_funds_df = pd.DataFrame(fed_funds_list)\n",
    "fed_funds_df = fed_funds_df.rename(columns={0: 'Date', 1: 'DFF'})\n",
    "fed_funds_df.drop(index=fed_funds_df.index[0], axis=0, inplace=True)\n",
    "fed_funds_df.reindex()\n",
    "fed_funds_df"
   ]
  }
 ],
 "metadata": {
  "interpreter": {
   "hash": "52c035fb8b67b052dd6e2906c4f9d9863b12f63c5bf3c5ef824bd27b191b7f1a"
  },
  "kernelspec": {
   "display_name": "Python 3.9.5 64-bit ('venv': venv)",
   "language": "python",
   "name": "python3"
  },
  "language_info": {
   "codemirror_mode": {
    "name": "ipython",
    "version": 3
   },
   "file_extension": ".py",
   "mimetype": "text/x-python",
   "name": "python",
   "nbconvert_exporter": "python",
   "pygments_lexer": "ipython3",
   "version": "3.9.5"
  },
  "orig_nbformat": 4
 },
 "nbformat": 4,
 "nbformat_minor": 2
}
