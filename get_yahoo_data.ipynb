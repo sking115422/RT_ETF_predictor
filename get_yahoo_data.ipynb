{
 "cells": [
  {
   "cell_type": "code",
   "execution_count": 59,
   "id": "d5ad5003-5334-466c-898c-66ee930874ce",
   "metadata": {},
   "outputs": [],
   "source": [
    "import pandas_datareader as web\n",
    "import math\n",
    "import numpy as np\n",
    "import pandas as pd \n",
    "from sklearn.preprocessing import MinMaxScaler\n",
    "import requests as req\n",
    "import datetime as dt\n",
    "import pytz \n",
    "import csv\n",
    "import os"
   ]
  },
  {
   "cell_type": "code",
   "execution_count": 60,
   "id": "66bcff9d",
   "metadata": {},
   "outputs": [],
   "source": [
    "asset_list = ['SPY']"
   ]
  },
  {
   "cell_type": "code",
   "execution_count": 61,
   "id": "902078cd",
   "metadata": {},
   "outputs": [],
   "source": [
    "if os.path.isdir('data') == False:\n",
    "    os.mkdir('data')\n",
    "    os.mkdir('./data/gen')\n",
    "    os.mkdir('./data/asset')"
   ]
  },
  {
   "cell_type": "code",
   "execution_count": 62,
   "id": "da974859",
   "metadata": {},
   "outputs": [
    {
     "name": "stdout",
     "output_type": "stream",
     "text": [
      "2021-12-22\n"
     ]
    }
   ],
   "source": [
    "est = pytz.timezone('US/Eastern')\n",
    "now = dt.datetime.now(tz=est)\n",
    "\n",
    "time_parts = str(now).split(\" \")\n",
    "current_date = time_parts[0]\n",
    "print(current_date)"
   ]
  },
  {
   "cell_type": "code",
   "execution_count": 63,
   "id": "858e8395",
   "metadata": {},
   "outputs": [],
   "source": [
    "start_date = '1995-01-01'\n",
    "end_date = current_date"
   ]
  },
  {
   "cell_type": "code",
   "execution_count": 64,
   "id": "712213af",
   "metadata": {},
   "outputs": [],
   "source": [
    "delta = dt.timedelta(1)\n",
    "temp_date = now - delta\n",
    "temp_date = str(temp_date)[0:10]\n",
    "\n",
    "\n",
    "fed_fund_url = f\"https://fred.stlouisfed.org/graph/fredgraph.csv?bgcolor=%23e1e9f0&chart_type=line&drp=0&fo=open%20sans&graph_bgcolor=%23ffffff&height=450&mode=fred&recession_bars=on&txtcolor=%23444444&ts=12&tts=12&width=1168&nt=0&thu=0&trc=0&show_legend=yes&show_axis_titles=yes&show_tooltip=yes&id=DFF&scale=left&cosd={start_date}&coed={temp_date}&line_color=%234572a7&link_values=false&line_style=solid&mark_type=none&mw=3&lw=2&ost=-99999&oet=99999&mma=0&fml=a&fq=Daily%2C%207-Day&fam=avg&fgst=lin&fgsnd=2020-02-01&line_index=1&transformation=lin&vintage_date=2021-12-22&revision_date=2021-12-22&nd=1954-07-01\""
   ]
  },
  {
   "cell_type": "code",
   "execution_count": 65,
   "id": "8106b1d2",
   "metadata": {},
   "outputs": [],
   "source": [
    "fed_funds_data = req.get(fed_fund_url)\n",
    "decoded_content = fed_funds_data.content.decode('utf-8')\n",
    "\n",
    "cr = csv.reader(decoded_content.splitlines(), delimiter=',')\n",
    "fed_funds_list = list(cr)\n",
    "fed_funds_list.append([temp_date, None])"
   ]
  },
  {
   "cell_type": "code",
   "execution_count": 66,
   "id": "2869dba4",
   "metadata": {},
   "outputs": [],
   "source": [
    "fed_funds_df = pd.DataFrame(fed_funds_list)\n",
    "fed_funds_df.to_csv('./data/gen/fed_funds.csv')"
   ]
  },
  {
   "cell_type": "code",
   "execution_count": 67,
   "id": "bff7952e",
   "metadata": {},
   "outputs": [],
   "source": [
    "# ^FVX = 5 year treasury\n",
    "fvx = web.DataReader('^FVX', data_source='yahoo', start = start_date, end = end_date)\n",
    "fvx.to_csv('./data/gen/fvx.csv')"
   ]
  },
  {
   "cell_type": "code",
   "execution_count": 68,
   "id": "4f72f138",
   "metadata": {},
   "outputs": [],
   "source": [
    "# ^TNX = 10 year treasury\n",
    "tnx = web.DataReader('^TNX', data_source='yahoo', start = start_date, end = end_date)\n",
    "tnx.to_csv('./data/gen/tnx.csv')"
   ]
  },
  {
   "cell_type": "code",
   "execution_count": 69,
   "id": "26593f89",
   "metadata": {},
   "outputs": [],
   "source": [
    "# ^VIX = Volatility index\n",
    "vix = web.DataReader('^VIX', data_source='yahoo', start = start_date, end = end_date)\n",
    "vix.to_csv('./data/gen/vix.csv')"
   ]
  },
  {
   "cell_type": "code",
   "execution_count": 70,
   "id": "a759c59d-609a-4c75-b47b-78325fdf8ca9",
   "metadata": {},
   "outputs": [],
   "source": [
    "data_list_raw = []\n",
    "\n",
    "for each in asset_list:\n",
    "    \n",
    "    data_list_raw.append(web.DataReader(each, data_source='yahoo', start = start_date, end = end_date))\n"
   ]
  },
  {
   "cell_type": "code",
   "execution_count": 71,
   "id": "c504f62f",
   "metadata": {},
   "outputs": [],
   "source": [
    "count = 0\n",
    "for each in data_list_raw:\n",
    "    each.to_csv('./data/asset/' + asset_list[count] + '.csv')\n",
    "    count = count + 1"
   ]
  }
 ],
 "metadata": {
  "kernelspec": {
   "display_name": "Python 3 (ipykernel)",
   "language": "python",
   "name": "python3"
  },
  "language_info": {
   "codemirror_mode": {
    "name": "ipython",
    "version": 3
   },
   "file_extension": ".py",
   "mimetype": "text/x-python",
   "name": "python",
   "nbconvert_exporter": "python",
   "pygments_lexer": "ipython3",
   "version": "3.9.7"
  }
 },
 "nbformat": 4,
 "nbformat_minor": 5
}
