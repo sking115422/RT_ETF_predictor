{
 "cells": [
  {
   "cell_type": "code",
   "execution_count": 54,
   "metadata": {},
   "outputs": [],
   "source": [
    "import sqlalchemy\n",
    "# import pymysql\n",
    "import os\n",
    "import pandas as pd\n",
    "\n",
    "import sys\n",
    "sys.path.append('../')\n",
    "import private_info.db_info as dbi"
   ]
  },
  {
   "cell_type": "code",
   "execution_count": 55,
   "metadata": {},
   "outputs": [],
   "source": [
    "engine = sqlalchemy.create_engine(f'mysql+pymysql://{dbi.username}:{dbi.password}@{dbi.hostname}:{dbi.port}/{dbi.database}')"
   ]
  },
  {
   "cell_type": "code",
   "execution_count": 56,
   "metadata": {},
   "outputs": [],
   "source": [
    "db_sqla_conn = engine.connect()"
   ]
  },
  {
   "cell_type": "code",
   "execution_count": 57,
   "metadata": {},
   "outputs": [
    {
     "name": "stdout",
     "output_type": "stream",
     "text": [
      "<sqlalchemy.engine.base.Connection object at 0x7f9f660c2f40>\n"
     ]
    }
   ],
   "source": [
    "print (db_sqla_conn)"
   ]
  },
  {
   "cell_type": "code",
   "execution_count": 58,
   "metadata": {},
   "outputs": [],
   "source": [
    "files_list = []\n",
    "\n",
    "for root, dir, files in os.walk('data'):\n",
    "    for name in files:\n",
    "        files_list.append(os.path.join(root,name))"
   ]
  },
  {
   "cell_type": "code",
   "execution_count": 59,
   "metadata": {},
   "outputs": [
    {
     "name": "stdout",
     "output_type": "stream",
     "text": [
      "['data/asset/IWM.csv', 'data/asset/SPY.csv', 'data/asset/QQQ.csv', 'data/gen/fvx.csv', 'data/gen/fed_funds.csv', 'data/gen/tnx.csv', 'data/gen/vix.csv']\n"
     ]
    }
   ],
   "source": [
    "print (files_list)"
   ]
  },
  {
   "cell_type": "code",
   "execution_count": null,
   "metadata": {},
   "outputs": [],
   "source": []
  },
  {
   "cell_type": "code",
   "execution_count": 60,
   "metadata": {},
   "outputs": [
    {
     "name": "stdout",
     "output_type": "stream",
     "text": [
      "iwm\n"
     ]
    },
    {
     "name": "stderr",
     "output_type": "stream",
     "text": [
      "Exception during reset or similar\n",
      "Traceback (most recent call last):\n",
      "  File \"/home/sdk/RT_ETF_predictor/venv/lib/python3.9/site-packages/sqlalchemy/pool/base.py\", line 739, in _finalize_fairy\n",
      "    fairy._reset(pool)\n",
      "  File \"/home/sdk/RT_ETF_predictor/venv/lib/python3.9/site-packages/sqlalchemy/pool/base.py\", line 988, in _reset\n",
      "    pool._dialect.do_rollback(self)\n",
      "  File \"/home/sdk/RT_ETF_predictor/venv/lib/python3.9/site-packages/sqlalchemy/engine/default.py\", line 682, in do_rollback\n",
      "    dbapi_connection.rollback()\n",
      "  File \"/home/sdk/RT_ETF_predictor/venv/lib/python3.9/site-packages/pymysql/connections.py\", line 480, in rollback\n",
      "    self._read_ok_packet()\n",
      "  File \"/home/sdk/RT_ETF_predictor/venv/lib/python3.9/site-packages/pymysql/connections.py\", line 443, in _read_ok_packet\n",
      "    pkt = self._read_packet()\n",
      "  File \"/home/sdk/RT_ETF_predictor/venv/lib/python3.9/site-packages/pymysql/connections.py\", line 692, in _read_packet\n",
      "    packet_header = self._read_bytes(4)\n",
      "  File \"/home/sdk/RT_ETF_predictor/venv/lib/python3.9/site-packages/pymysql/connections.py\", line 748, in _read_bytes\n",
      "    raise err.OperationalError(\n",
      "pymysql.err.OperationalError: (2013, 'Lost connection to MySQL server during query')\n"
     ]
    },
    {
     "name": "stdout",
     "output_type": "stream",
     "text": [
      "2000-06-01\n",
      "spy\n",
      "2000-06-01\n",
      "qqq\n",
      "2000-06-01\n",
      "fvx\n",
      "2000-06-01\n",
      "fed_funds\n",
      "2000-06-01\n",
      "tnx\n",
      "2000-06-01\n",
      "vix\n",
      "2000-06-01\n"
     ]
    }
   ],
   "source": [
    "for path in files_list:\n",
    "    \n",
    "    df = pd.read_csv (path)\n",
    "    path_parts = path.split('/')\n",
    "    t_name = path_parts[2][:-4].lower()\n",
    "    \n",
    "    print (t_name)\n",
    "    \n",
    "    df.to_sql(t_name, engine, if_exists='fail')\n",
    "    \n",
    "    engine.execute(f\"ALTER TABLE {t_name} DROP COLUMN `Unnamed: 0`;\")\n",
    "    \n",
    "    engine.execute(f\"ALTER TABLE {t_name} CHANGE COLUMN `index` `index` BIGINT NULL AUTO_INCREMENT;\")\n",
    "    \n",
    "    results = engine.execute(f\"SELECT Date FROM {t_name} ORDER BY Date ASC LIMIT 1;\")\n",
    "    results = results.fetchall()[0][0]\n",
    "    \n",
    "    engine.execute(f\"UPDATE {t_name} SET `index` = 0 WHERE Date = \\'{results}\\';\")\n",
    "    \n",
    "    engine.execute(f\"ALTER TABLE {t_name} ADD PRIMARY KEY (`index`);\")\n",
    "    \n",
    "    engine.execute( f\"ALTER TABLE {t_name} AUTO_INCREMENT = 0;\" )\n",
    "\n",
    "    "
   ]
  }
 ],
 "metadata": {
  "interpreter": {
   "hash": "52c035fb8b67b052dd6e2906c4f9d9863b12f63c5bf3c5ef824bd27b191b7f1a"
  },
  "kernelspec": {
   "display_name": "Python 3.9.5 64-bit ('venv': venv)",
   "language": "python",
   "name": "python3"
  },
  "language_info": {
   "codemirror_mode": {
    "name": "ipython",
    "version": 3
   },
   "file_extension": ".py",
   "mimetype": "text/x-python",
   "name": "python",
   "nbconvert_exporter": "python",
   "pygments_lexer": "ipython3",
   "version": "3.9.5"
  },
  "orig_nbformat": 4
 },
 "nbformat": 4,
 "nbformat_minor": 2
}
