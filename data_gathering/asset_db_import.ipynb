{
 "cells": [
  {
   "cell_type": "code",
   "execution_count": 1,
   "metadata": {},
   "outputs": [],
   "source": [
    "import sqlalchemy\n",
    "# import pymysql\n",
    "import os\n",
    "import pandas as pd\n",
    "\n",
    "import sys\n",
    "sys.path.append('../')\n",
    "import private_info.db_info as dbi"
   ]
  },
  {
   "cell_type": "code",
   "execution_count": 2,
   "metadata": {},
   "outputs": [],
   "source": [
    "engine = sqlalchemy.create_engine(f'mysql+pymysql://{dbi.username}:{dbi.password}@{dbi.hostname}:{dbi.port}/{dbi.database}')"
   ]
  },
  {
   "cell_type": "code",
   "execution_count": 3,
   "metadata": {},
   "outputs": [],
   "source": [
    "db_sqla_conn = engine.connect()"
   ]
  },
  {
   "cell_type": "code",
   "execution_count": 4,
   "metadata": {},
   "outputs": [
    {
     "name": "stdout",
     "output_type": "stream",
     "text": [
      "<sqlalchemy.engine.base.Connection object at 0x7f9a7808ed90>\n"
     ]
    }
   ],
   "source": [
    "print (db_sqla_conn)"
   ]
  },
  {
   "cell_type": "code",
   "execution_count": 5,
   "metadata": {},
   "outputs": [],
   "source": [
    "files_list = []\n",
    "\n",
    "for root, dir, files in os.walk('data'):\n",
    "    for name in files:\n",
    "        files_list.append(os.path.join(root,name))"
   ]
  },
  {
   "cell_type": "code",
   "execution_count": 6,
   "metadata": {},
   "outputs": [
    {
     "name": "stdout",
     "output_type": "stream",
     "text": [
      "['data/asset/IWM.csv', 'data/asset/SPY.csv', 'data/asset/QQQ.csv', 'data/gen/fvx.csv', 'data/gen/fed_funds.csv', 'data/gen/tnx.csv', 'data/gen/vix.csv']\n"
     ]
    }
   ],
   "source": [
    "print (files_list)"
   ]
  },
  {
   "cell_type": "code",
   "execution_count": 7,
   "metadata": {},
   "outputs": [
    {
     "name": "stdout",
     "output_type": "stream",
     "text": [
      "iwm\n",
      "spy\n",
      "qqq\n",
      "fvx\n",
      "fed_funds\n",
      "tnx\n",
      "vix\n"
     ]
    }
   ],
   "source": [
    "for path in files_list:\n",
    "    \n",
    "    df = pd.read_csv (path)\n",
    "    path_parts = path.split('/')\n",
    "    t_name = path_parts[2][:-4].lower()\n",
    "    \n",
    "    print (t_name)\n",
    "    \n",
    "    df.to_sql(t_name, engine, if_exists='fail')\n",
    "    \n",
    "    engine.execute(f\"ALTER TABLE {t_name} DROP COLUMN `Unnamed: 0`;\")\n",
    "    \n",
    "    engine.execute(f\"ALTER TABLE {t_name} CHANGE COLUMN `index` `index` BIGINT NULL AUTO_INCREMENT;\")\n",
    "    \n",
    "    results = engine.execute(f\"SELECT Date FROM {t_name} ORDER BY Date ASC LIMIT 1;\")\n",
    "    results = results.fetchall()[0][0]\n",
    "    \n",
    "    engine.execute(f\"UPDATE {t_name} SET `index` = 0 WHERE Date = \\'{results}\\';\")\n",
    "    \n",
    "    engine.execute(f\"ALTER TABLE {t_name} ADD PRIMARY KEY (`index`);\")\n",
    "    \n",
    "    engine.execute( f\"ALTER TABLE {t_name} AUTO_INCREMENT = 0;\" )\n",
    "\n",
    "    "
   ]
  }
 ],
 "metadata": {
  "interpreter": {
   "hash": "52c035fb8b67b052dd6e2906c4f9d9863b12f63c5bf3c5ef824bd27b191b7f1a"
  },
  "kernelspec": {
   "display_name": "Python 3.9.5 64-bit ('venv': venv)",
   "language": "python",
   "name": "python3"
  },
  "language_info": {
   "codemirror_mode": {
    "name": "ipython",
    "version": 3
   },
   "file_extension": ".py",
   "mimetype": "text/x-python",
   "name": "python",
   "nbconvert_exporter": "python",
   "pygments_lexer": "ipython3",
   "version": "3.9.5"
  },
  "orig_nbformat": 4
 },
 "nbformat": 4,
 "nbformat_minor": 2
}
